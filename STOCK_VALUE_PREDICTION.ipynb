{
  "nbformat": 4,
  "nbformat_minor": 0,
  "metadata": {
    "colab": {
      "name": "STOCK_VALUE_PREDICTION.ipynb",
      "provenance": [],
      "collapsed_sections": [],
      "include_colab_link": true
    },
    "kernelspec": {
      "display_name": "Python 3",
      "name": "python3"
    }
  },
  "cells": [
    {
      "cell_type": "markdown",
      "metadata": {
        "id": "view-in-github",
        "colab_type": "text"
      },
      "source": [
        "<a href=\"https://colab.research.google.com/github/RajBharti25/Stock-value-prediction-using-LSTM/blob/main/STOCK_VALUE_PREDICTION.ipynb\" target=\"_parent\"><img src=\"https://colab.research.google.com/assets/colab-badge.svg\" alt=\"Open In Colab\"/></a>"
      ]
    },
    {
      "cell_type": "code",
      "metadata": {
        "colab": {
          "base_uri": "https://localhost:8080/"
        },
        "id": "zIHH_D0TQeS5",
        "outputId": "b8a95ce3-4944-4746-c532-2eeae138fa9f"
      },
      "source": [
        "from google.colab import drive\n",
        "drive.mount('/content/gdrive')"
      ],
      "execution_count": 1,
      "outputs": [
        {
          "output_type": "stream",
          "text": [
            "Mounted at /content/gdrive\n"
          ],
          "name": "stdout"
        }
      ]
    },
    {
      "cell_type": "code",
      "metadata": {
        "colab": {
          "base_uri": "https://localhost:8080/"
        },
        "id": "iNryhcrAqB-_",
        "outputId": "7cb93cf9-a1c2-49ea-9487-5aa2ec721d36"
      },
      "source": [
        "cd /content/gdrive/My\\ Drive/Untitled folder"
      ],
      "execution_count": 2,
      "outputs": [
        {
          "output_type": "stream",
          "text": [
            "/content/gdrive/My Drive/Untitled folder\n"
          ],
          "name": "stdout"
        }
      ]
    },
    {
      "cell_type": "code",
      "metadata": {
        "colab": {
          "base_uri": "https://localhost:8080/"
        },
        "id": "tDzlT2xEqEiY",
        "outputId": "729ec713-2c1d-42f2-9963-b73a49c2a4ff"
      },
      "source": [
        "!ls"
      ],
      "execution_count": 3,
      "outputs": [
        {
          "output_type": "stream",
          "text": [
            "data.csv  data.pdf\n"
          ],
          "name": "stdout"
        }
      ]
    },
    {
      "cell_type": "code",
      "metadata": {
        "id": "fajO3TzRqHid"
      },
      "source": [
        "import numpy as np\r\n",
        "import matplotlib.pyplot as plt\r\n",
        "import pandas as pd\r\n",
        "from tabula.io import read_pdf\r\n",
        "from tabula.io import convert_into\r\n",
        "from numpy import array"
      ],
      "execution_count": 25,
      "outputs": []
    },
    {
      "cell_type": "code",
      "metadata": {
        "colab": {
          "base_uri": "https://localhost:8080/"
        },
        "id": "tSHKxhYVrV0Z",
        "outputId": "a9242591-b70a-4a34-9ad0-9ca53ee1ee7b"
      },
      "source": [
        "!pip install PyPDF2\r\n",
        "import PyPDF2"
      ],
      "execution_count": 13,
      "outputs": [
        {
          "output_type": "stream",
          "text": [
            "Collecting PyPDF2\n",
            "  Downloading PyPDF2-1.26.0.tar.gz (77 kB)\n",
            "\u001b[?25l\r\u001b[K     |████▎                           | 10 kB 22.0 MB/s eta 0:00:01\r\u001b[K     |████████▌                       | 20 kB 16.9 MB/s eta 0:00:01\r\u001b[K     |████████████▊                   | 30 kB 10.6 MB/s eta 0:00:01\r\u001b[K     |█████████████████               | 40 kB 8.4 MB/s eta 0:00:01\r\u001b[K     |█████████████████████▏          | 51 kB 4.7 MB/s eta 0:00:01\r\u001b[K     |█████████████████████████▍      | 61 kB 5.2 MB/s eta 0:00:01\r\u001b[K     |█████████████████████████████▋  | 71 kB 5.2 MB/s eta 0:00:01\r\u001b[K     |████████████████████████████████| 77 kB 3.0 MB/s \n",
            "\u001b[?25hBuilding wheels for collected packages: PyPDF2\n",
            "  Building wheel for PyPDF2 (setup.py) ... \u001b[?25l\u001b[?25hdone\n",
            "  Created wheel for PyPDF2: filename=PyPDF2-1.26.0-py3-none-any.whl size=61085 sha256=7d1fa218a38b4e2ccf586fa41b0c29ad8223cedaf7b2425d0716217d6d1cec1e\n",
            "  Stored in directory: /root/.cache/pip/wheels/97/28/4b/142b7d8c98eeeb73534b9c5b6558ddd3bab3c2c8192aa7ab30\n",
            "Successfully built PyPDF2\n",
            "Installing collected packages: PyPDF2\n",
            "Successfully installed PyPDF2-1.26.0\n"
          ],
          "name": "stdout"
        }
      ]
    },
    {
      "cell_type": "code",
      "metadata": {
        "id": "YAZnAsQXuUux"
      },
      "source": [
        "pdfObj=open('data.pdf','rb')\r\n",
        "pdfReader=PyPDF2.PdfFileReader(pdfObj)\r\n",
        "print(pdfReader.numPages)\r\n",
        "val=[]\r\n",
        "for i in range(4):\r\n",
        "  a=pdfReader.getPage(i)\r\n",
        "  txt=a.extractText()\r\n",
        "  txt=txt.split('\\n')\r\n",
        "  txt=txt[:-1]\r\n",
        "  val=val+txt"
      ],
      "execution_count": 37,
      "outputs": []
    },
    {
      "cell_type": "code",
      "metadata": {
        "id": "7lGQmu443oY_"
      },
      "source": [
        "x=['not available','missing','null','missing E10100']\r\n",
        "for l in range(len(val)):\r\n",
        "  if val[l] in x:\r\n",
        "    val[l]=0"
      ],
      "execution_count": 38,
      "outputs": []
    },
    {
      "cell_type": "code",
      "metadata": {
        "id": "DG4YDbgCuUlT"
      },
      "source": [
        "Date=[]\r\n",
        "Open=[]\r\n",
        "High=[]\r\n",
        "Low=[]\r\n",
        "Close=[]\r\n",
        "Adj_Close=[]\r\n",
        "Volume=[]\r\n",
        "i=7\r\n",
        "while i<int(len(val)):\r\n",
        "  Date.append(val[i])\r\n",
        "  Open.append(np.float32(val[i+1]))\r\n",
        "  High.append(np.float32(val[i+2]))\r\n",
        "  Low.append(np.float32(val[i+3]))\r\n",
        "  Close.append(np.float32(val[i+4]))\r\n",
        "  Adj_Close.append(np.float32(val[i+5]))\r\n",
        "  Volume.append(np.float32(val[i+6]))\r\n",
        "  i=i+7"
      ],
      "execution_count": 39,
      "outputs": []
    },
    {
      "cell_type": "code",
      "metadata": {
        "id": "CtlQfL67-ZvB"
      },
      "source": [
        "a=np.array(Open)\r\n",
        "a=a.reshape(len(Open),1)\r\n",
        "a=a/np.amax(a)\r\n",
        "b=np.array(Low)\r\n",
        "b=b.reshape(len(Low),1)\r\n",
        "b=b/np.amax(b)\r\n",
        "c=np.array(Close)\r\n",
        "c=c/np.amax(c)\r\n",
        "c=c.reshape(len(Close),1)\r\n",
        "d=np.array(Adj_Close)\r\n",
        "d=d.reshape(len(Adj_Close),1)\r\n",
        "d=d/np.amax(d)\r\n",
        "e=np.array(Volume)\r\n",
        "e=e.reshape(len(Volume),1)\r\n",
        "e=e/np.amax(e)\r\n",
        "\r\n",
        "y=np.array(High)\r\n",
        "y=y.reshape(len(y),1)\r\n",
        "y=y/np.amax(y)\r\n",
        "X=np.concatenate([a,b,c,d,e],-1)\r\n",
        "# X=X.reshape(X.shape[0],1,X.shape[1])\r\n",
        "y.shape,X.shape"
      ],
      "execution_count": 40,
      "outputs": []
    },
    {
      "cell_type": "code",
      "metadata": {
        "colab": {
          "base_uri": "https://localhost:8080/"
        },
        "id": "2eWmrM1irCq8",
        "outputId": "6e729713-4f52-472b-9fa7-3256e8e88694"
      },
      "source": [
        ""
      ],
      "execution_count": 41,
      "outputs": [
        {
          "output_type": "execute_result",
          "data": {
            "text/plain": [
              "((185, 1), (185, 5))"
            ]
          },
          "metadata": {
            "tags": []
          },
          "execution_count": 41
        }
      ]
    },
    {
      "cell_type": "code",
      "metadata": {
        "id": "F8eMT67F3r_q"
      },
      "source": [
        "import math\r\n",
        "import tensorflow as tf\r\n",
        "from keras.models import Sequential\r\n",
        "from keras.layers import Dense\r\n",
        "from keras.layers import LSTM\r\n",
        "from sklearn.preprocessing import MinMaxScaler\r\n",
        "from sklearn.metrics import mean_squared_error\r\n",
        "np.random.seed(7)"
      ],
      "execution_count": 34,
      "outputs": []
    },
    {
      "cell_type": "code",
      "metadata": {
        "id": "ADimcYt8G6H3"
      },
      "source": [
        "def split_sequence(sequence, label,n_steps):\r\n",
        "\tX2, y2 = list(), list()\r\n",
        "\tfor i in range(int(len(sequence))):\r\n",
        "\t\tend_ix = i + n_steps\r\n",
        "\t\tif end_ix > len(sequence)-1:\r\n",
        "\t\t\tbreak\r\n",
        "\t\t# gather input and output parts of the pattern\r\n",
        "\t\tseq_x, seq_y = sequence[i:end_ix], label[end_ix]\r\n",
        "\t\tX2.append(seq_x)\r\n",
        "\t\ty2.append(seq_y)\r\n",
        "\treturn array(X2), array(y2)"
      ],
      "execution_count": 48,
      "outputs": []
    },
    {
      "cell_type": "code",
      "metadata": {
        "colab": {
          "base_uri": "https://localhost:8080/"
        },
        "id": "gWM0n3CPnW8T",
        "outputId": "6827dbab-08ef-4156-bf93-7740eff7ede0"
      },
      "source": [
        "X1,y1=split_sequence(X,y,5)\r\n",
        "X1.shape,y1.shape"
      ],
      "execution_count": 49,
      "outputs": [
        {
          "output_type": "execute_result",
          "data": {
            "text/plain": [
              "((180, 5, 5), (180, 1))"
            ]
          },
          "metadata": {
            "tags": []
          },
          "execution_count": 49
        }
      ]
    },
    {
      "cell_type": "code",
      "metadata": {
        "colab": {
          "base_uri": "https://localhost:8080/"
        },
        "id": "r3OHzq6Ymp3C",
        "outputId": "11cb2f63-8e88-4d22-fecd-e74e46436aa6"
      },
      "source": [
        "from keras.models import Sequential\r\n",
        "# from keras.layers import LSTM\r\n",
        "from keras.layers import Dense\r\n",
        "from keras.layers import Bidirectional\r\n",
        "from keras.layers.recurrent import LSTM\r\n",
        "model = Sequential()\r\n",
        "model.add(LSTM(50, activation='relu',return_sequences=True, input_shape=(5, 5)))\r\n",
        "# model.add(LSTM(30, activation='relu',return_sequences=True))\r\n",
        "# model.add(LSTM(30, activation='relu',return_sequences=False))\r\n",
        "# model.add(Dense(10))\r\n",
        "model.add(Dense(1))\r\n",
        "model.compile(optimizer='adam', loss='mse')\r\n",
        "print(model.summary())"
      ],
      "execution_count": 55,
      "outputs": [
        {
          "output_type": "stream",
          "text": [
            "Model: \"sequential_2\"\n",
            "_________________________________________________________________\n",
            "Layer (type)                 Output Shape              Param #   \n",
            "=================================================================\n",
            "lstm_4 (LSTM)                (None, 5, 50)             11200     \n",
            "_________________________________________________________________\n",
            "lstm_5 (LSTM)                (None, 30)                9720      \n",
            "_________________________________________________________________\n",
            "dense_2 (Dense)              (None, 1)                 31        \n",
            "=================================================================\n",
            "Total params: 20,951\n",
            "Trainable params: 20,951\n",
            "Non-trainable params: 0\n",
            "_________________________________________________________________\n",
            "None\n"
          ],
          "name": "stdout"
        }
      ]
    },
    {
      "cell_type": "code",
      "metadata": {
        "id": "hG59feWYnEQv"
      },
      "source": [
        "from sklearn.model_selection import train_test_split\r\n",
        "X_train, X_test, y_train, y_test = train_test_split(X1, y1, test_size=0.1, random_state=42)"
      ],
      "execution_count": 64,
      "outputs": []
    },
    {
      "cell_type": "code",
      "metadata": {
        "colab": {
          "base_uri": "https://localhost:8080/"
        },
        "id": "ndTT5JZOnLeD",
        "outputId": "89a926d2-41c7-4517-c6d7-1e3e745132e7"
      },
      "source": [
        "model.fit(X_train, y_train, epochs=10, validation_data=(X_test,y_test), batch_size=1)"
      ],
      "execution_count": 65,
      "outputs": [
        {
          "output_type": "stream",
          "text": [
            "Epoch 1/10\n",
            "162/162 [==============================] - 1s 4ms/step - loss: 0.0108 - val_loss: 0.0012\n",
            "Epoch 2/10\n",
            "162/162 [==============================] - 1s 4ms/step - loss: 0.0099 - val_loss: 0.0016\n",
            "Epoch 3/10\n",
            "162/162 [==============================] - 1s 4ms/step - loss: 0.0087 - val_loss: 9.5040e-04\n",
            "Epoch 4/10\n",
            "162/162 [==============================] - 1s 4ms/step - loss: 0.0087 - val_loss: 0.0298\n",
            "Epoch 5/10\n",
            "162/162 [==============================] - 1s 4ms/step - loss: 0.0109 - val_loss: 9.6368e-04\n",
            "Epoch 6/10\n",
            "162/162 [==============================] - 1s 4ms/step - loss: 0.0095 - val_loss: 0.0011\n",
            "Epoch 7/10\n",
            "162/162 [==============================] - 1s 4ms/step - loss: 0.0087 - val_loss: 0.0010\n",
            "Epoch 8/10\n",
            "162/162 [==============================] - 1s 4ms/step - loss: 0.0083 - val_loss: 0.0193\n",
            "Epoch 9/10\n",
            "162/162 [==============================] - 1s 4ms/step - loss: 0.0104 - val_loss: 0.0017\n",
            "Epoch 10/10\n",
            "162/162 [==============================] - 1s 4ms/step - loss: 0.0095 - val_loss: 9.6575e-04\n"
          ],
          "name": "stdout"
        },
        {
          "output_type": "execute_result",
          "data": {
            "text/plain": [
              "<tensorflow.python.keras.callbacks.History at 0x7f780e8cd550>"
            ]
          },
          "metadata": {
            "tags": []
          },
          "execution_count": 65
        }
      ]
    },
    {
      "cell_type": "code",
      "metadata": {
        "colab": {
          "base_uri": "https://localhost:8080/"
        },
        "id": "hh7M9XP1BgDo",
        "outputId": "7447f7b9-b9f5-483b-e24c-6b102fdab34b"
      },
      "source": [
        "a=model.predict(X_test)\r\n",
        "for i in range(10):\r\n",
        "  print(a[i],\"----\",y_test[i])"
      ],
      "execution_count": 71,
      "outputs": [
        {
          "output_type": "stream",
          "text": [
            "[0.58160436] ---- [0.6010117]\n",
            "[0.66877574] ---- [0.7638648]\n",
            "[0.9645193] ---- [0.97328764]\n",
            "[0.79962397] ---- [0.79854274]\n",
            "[0.9493762] ---- [0.9655031]\n",
            "[0.5729953] ---- [0.56664675]\n",
            "[0.6248707] ---- [0.5760913]\n",
            "[0.75684583] ---- [0.7275608]\n",
            "[0.77347606] ---- [0.75147074]\n",
            "[0.7740675] ---- [0.7504879]\n"
          ],
          "name": "stdout"
        }
      ]
    },
    {
      "cell_type": "code",
      "metadata": {
        "colab": {
          "base_uri": "https://localhost:8080/",
          "height": 281
        },
        "id": "RgwPpwsxaJHW",
        "outputId": "59d2fdc9-72e4-4364-ae5c-82b6916cc894"
      },
      "source": [
        "plt.plot(a,label='ground truth \"High\" value')\r\n",
        "plt.plot(y_test, label='predicted \"High\" value')\r\n",
        "plt.legend()"
      ],
      "execution_count": 73,
      "outputs": [
        {
          "output_type": "execute_result",
          "data": {
            "text/plain": [
              "<matplotlib.legend.Legend at 0x7f7806773908>"
            ]
          },
          "metadata": {
            "tags": []
          },
          "execution_count": 73
        },
        {
          "output_type": "display_data",
          "data": {
            "image/png": "[encoded data removed]",
            "text/plain": [
              "<Figure size 432x288 with 1 Axes>"
            ]
          },
          "metadata": {
            "tags": [],
            "needs_background": "light"
          }
        }
      ]
    },
    {
      "cell_type": "code",
      "metadata": {
        "id": "0NWWqbFGBihg"
      },
      "source": [
        ""
      ],
      "execution_count": null,
      "outputs": []
    }
  ]
}